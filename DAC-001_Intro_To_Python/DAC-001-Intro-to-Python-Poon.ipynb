{
 "cells": [
  {
   "cell_type": "markdown",
   "metadata": {},
   "source": [
    "## Answers"
   ]
  },
  {
   "cell_type": "markdown",
   "metadata": {},
   "source": [
    "### Question 1: Lists"
   ]
  },
  {
   "cell_type": "code",
   "execution_count": 27,
   "metadata": {},
   "outputs": [
    {
     "name": "stdout",
     "output_type": "stream",
     "text": [
      "['orange', 'banana', 'tomato']\n"
     ]
    }
   ],
   "source": [
    "fruits = [\"apple\",\"orange\", \"banana\"]\n",
    "fruits.insert(3,\"tomato\")\n",
    "fruits.remove(\"apple\")\n",
    "print(fruits)"
   ]
  },
  {
   "cell_type": "markdown",
   "metadata": {},
   "source": [
    "### Question 2: Tuples"
   ]
  },
  {
   "cell_type": "code",
   "execution_count": 28,
   "metadata": {},
   "outputs": [
    {
     "ename": "AttributeError",
     "evalue": "'tuple' object has no attribute 'append'",
     "output_type": "error",
     "traceback": [
      "\u001b[1;31m---------------------------------------------------------------------------\u001b[0m",
      "\u001b[1;31mAttributeError\u001b[0m                            Traceback (most recent call last)",
      "Cell \u001b[1;32mIn[28], line 2\u001b[0m\n\u001b[0;32m      1\u001b[0m subjects \u001b[38;5;241m=\u001b[39m (\u001b[38;5;124m\"\u001b[39m\u001b[38;5;124mphysics\u001b[39m\u001b[38;5;124m\"\u001b[39m,\u001b[38;5;124m\"\u001b[39m\u001b[38;5;124mchemistry\u001b[39m\u001b[38;5;124m\"\u001b[39m,\u001b[38;5;124m\"\u001b[39m\u001b[38;5;124menglish\u001b[39m\u001b[38;5;124m\"\u001b[39m,\u001b[38;5;124m\"\u001b[39m\u001b[38;5;124mmath\u001b[39m\u001b[38;5;124m\"\u001b[39m, \u001b[38;5;124m\"\u001b[39m\u001b[38;5;124mbiology\u001b[39m\u001b[38;5;124m\"\u001b[39m )\n\u001b[1;32m----> 2\u001b[0m \u001b[43msubjects\u001b[49m\u001b[38;5;241;43m.\u001b[39;49m\u001b[43mappend\u001b[49m(\u001b[38;5;124m\"\u001b[39m\u001b[38;5;124mliterature\u001b[39m\u001b[38;5;124m\"\u001b[39m)\n",
      "\u001b[1;31mAttributeError\u001b[0m: 'tuple' object has no attribute 'append'"
     ]
    }
   ],
   "source": [
    "subjects = (\"physics\",\"chemistry\",\"english\",\"math\", \"biology\" )\n",
    "subjects.append(\"literature\")"
   ]
  },
  {
   "cell_type": "code",
   "execution_count": 29,
   "metadata": {},
   "outputs": [
    {
     "name": "stdout",
     "output_type": "stream",
     "text": [
      "['physics', 'chemistry', 'english', 'math', 'biology', 'literature']\n",
      "The number of elements in the tuple is :  5\n"
     ]
    }
   ],
   "source": [
    "subjectslist = list(subjects)\n",
    "subjectslist.append(\"literature\")\n",
    "print(subjectslist)\n",
    "print(\"The number of elements in the tuple is : \",len(subjects))"
   ]
  },
  {
   "cell_type": "markdown",
   "metadata": {},
   "source": [
    "### Question 3: Sorting Lists"
   ]
  },
  {
   "cell_type": "code",
   "execution_count": 30,
   "metadata": {},
   "outputs": [
    {
     "name": "stdout",
     "output_type": "stream",
     "text": [
      "[10, 9, 8, 7, 6, 3]\n"
     ]
    }
   ],
   "source": [
    "students_id = [10,6,7,8,9,3]\n",
    "sorted_students_id = sorted(students_id)\n",
    "sorted_students_id.reverse()\n",
    "print(sorted_students_id)"
   ]
  },
  {
   "cell_type": "code",
   "execution_count": 31,
   "metadata": {},
   "outputs": [
    {
     "name": "stdout",
     "output_type": "stream",
     "text": [
      "[]\n"
     ]
    }
   ],
   "source": [
    "sorted_students_id.clear()\n",
    "print(sorted_students_id)"
   ]
  },
  {
   "cell_type": "markdown",
   "metadata": {},
   "source": [
    "### Question 4: Generating Lists"
   ]
  },
  {
   "cell_type": "code",
   "execution_count": 33,
   "metadata": {},
   "outputs": [
    {
     "name": "stdout",
     "output_type": "stream",
     "text": [
      "15\n",
      "12\n",
      "9\n",
      "6\n",
      "3\n",
      "The while loop ends here\n",
      "[15, 15, 12, 9, 6, 3]\n"
     ]
    }
   ],
   "source": [
    "\n",
    "n = 15\n",
    "desc_list = [n]\n",
    "while n > 0:\n",
    "    print(n)\n",
    "    desc_list.append(n)\n",
    "    n = n-3\n",
    "print(\"The while loop ends here\")\n",
    "print(desc_list)\n",
    "    "
   ]
  },
  {
   "cell_type": "markdown",
   "metadata": {},
   "source": [
    "### Question 5: Generating Lists"
   ]
  },
  {
   "cell_type": "code",
   "execution_count": 34,
   "metadata": {},
   "outputs": [
    {
     "name": "stdout",
     "output_type": "stream",
     "text": [
      "2\n",
      "4\n",
      "6\n",
      "8\n",
      "10\n",
      "12\n",
      "14\n",
      "16\n",
      "18\n",
      "20\n",
      "22\n",
      "24\n",
      "26\n",
      "28\n",
      "The while loop ends here\n",
      "[0, 2, 4, 6, 8, 10, 12, 14, 16, 18, 20, 22, 24, 26, 28]\n"
     ]
    }
   ],
   "source": [
    "asc_list = [n]\n",
    "n = 2\n",
    "while len(asc_list)<=14:\n",
    "    asc_list.append(n)\n",
    "    print(n)\n",
    "    n = n +2\n",
    "print(\"The while loop ends here\")\n",
    "print(asc_list)"
   ]
  },
  {
   "cell_type": "markdown",
   "metadata": {},
   "source": [
    "### Question 6: Combining and Seperating Lists"
   ]
  },
  {
   "cell_type": "code",
   "execution_count": 35,
   "metadata": {},
   "outputs": [
    {
     "name": "stdout",
     "output_type": "stream",
     "text": [
      "[12, 6, 0, 2, 4, 6, 8, 10, 12, 14, 16, 18, 20, 22, 24, 26, 28]\n",
      "[15, 15, 9, 3]\n"
     ]
    }
   ],
   "source": [
    "combined_list = desc_list + asc_list\n",
    "even_numbers = []\n",
    "for num in combined_list:\n",
    "    if num % 2 == 0:\n",
    "      even_numbers.append(num)\n",
    "\n",
    "print(even_numbers)\n",
    "\n",
    "odd_numbers = []\n",
    "for num in combined_list:\n",
    "   if num % 2 != 0:\n",
    "      odd_numbers.append(num)\n",
    "print(odd_numbers)"
   ]
  },
  {
   "cell_type": "markdown",
   "metadata": {},
   "source": [
    "### Question 7: Functions"
   ]
  },
  {
   "cell_type": "code",
   "execution_count": 24,
   "metadata": {},
   "outputs": [
    {
     "name": "stdout",
     "output_type": "stream",
     "text": [
      "If the radius is : 7.0\n",
      "The area of the circle is:  153.9335\n"
     ]
    }
   ],
   "source": [
    "def area_fn(radius):\n",
    " area = 3.1415*radius**2\n",
    " return area\n",
    "\n",
    "radius_input = input(\"Input radius: \")\n",
    "radius_input = float(radius_input)\n",
    "area = area_fn(radius_input)\n",
    "print(\"If the radius is :\", radius_input)\n",
    "print(\"The area of the circle is: \",area)"
   ]
  },
  {
   "cell_type": "markdown",
   "metadata": {},
   "source": [
    "### Question 8: Custom Function"
   ]
  },
  {
   "cell_type": "code",
   "execution_count": 38,
   "metadata": {},
   "outputs": [
    {
     "name": "stdout",
     "output_type": "stream",
     "text": [
      "dollasex\n"
     ]
    }
   ],
   "source": [
    "import random\n",
    "def generate_rapper_name():\n",
    "  First_name = [\"lil\",\"ice\",\"DJ\",\"dolla\",\"slim\"]\n",
    "  Last_name = [\"playa\",\"spice\",\"boss\",\"sex\"]\n",
    "  First_name = random.choice(First_name)\n",
    "  Last_name = random.choice(Last_name)\n",
    "  rapper_name = f\"{First_name}{Last_name}\" \n",
    "  return rapper_name\n",
    "print(generate_rapper_name())"
   ]
  },
  {
   "cell_type": "markdown",
   "metadata": {},
   "source": [
    "### Question 9: Creating and Manipulating Dictionaries"
   ]
  },
  {
   "cell_type": "code",
   "execution_count": 8,
   "metadata": {},
   "outputs": [
    {
     "name": "stdout",
     "output_type": "stream",
     "text": [
      "{'Alice': 88, 'Bob': 90, 'Charlie': 78, 'David': 92}\n"
     ]
    }
   ],
   "source": [
    "student_grades = {\"Alice\": 85,\n",
    "                  \"Bob\": 90,\n",
    "                  \"Charlie\": 78}\n",
    "student_grades[\"David\"]= 92\n",
    "student_grades[\"Alice\"] = 88\n",
    "print(student_grades)\n"
   ]
  },
  {
   "cell_type": "markdown",
   "metadata": {},
   "source": [
    "### Question 10: Using Dictionaries to count Occurences"
   ]
  },
  {
   "cell_type": "code",
   "execution_count": 17,
   "metadata": {},
   "outputs": [
    {
     "name": "stdout",
     "output_type": "stream",
     "text": [
      "{'apple': 3, 'banana': 2, 'orange': 1}\n"
     ]
    }
   ],
   "source": [
    "fruits = [\"apple\",\"banana\",\"apple\",\"orange\",\"banana\",\"apple\"]\n",
    "fruit_count = {}\n",
    "for fruit in fruits:\n",
    "    if fruit in fruit_count:\n",
    "        fruit_count[fruit] = fruit_count[fruit] + 1\n",
    "\n",
    "    else:\n",
    "        fruit_count[fruit] = 1\n",
    "\n",
    "print(fruit_count)\n",
    "\n",
    "#Note that fruit is implied as the units in list once the list is named fruits\n"
   ]
  }
 ],
 "metadata": {
  "kernelspec": {
   "display_name": "Python 3",
   "language": "python",
   "name": "python3"
  },
  "language_info": {
   "codemirror_mode": {
    "name": "ipython",
    "version": 3
   },
   "file_extension": ".py",
   "mimetype": "text/x-python",
   "name": "python",
   "nbconvert_exporter": "python",
   "pygments_lexer": "ipython3",
   "version": "3.11.4"
  }
 },
 "nbformat": 4,
 "nbformat_minor": 2
}
